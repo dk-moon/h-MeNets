{
 "cells": [
  {
   "cell_type": "markdown",
   "metadata": {
    "id": "tGfc05UmYU9Y"
   },
   "source": [
    "# Import Libraries"
   ]
  },
  {
   "cell_type": "code",
   "execution_count": 2,
   "metadata": {
    "colab": {
     "base_uri": "https://localhost:8080/"
    },
    "executionInfo": {
     "elapsed": 5786,
     "status": "ok",
     "timestamp": 1691156751493,
     "user": {
      "displayName": "DongKyu Moon",
      "userId": "13679376230758781592"
     },
     "user_tz": -540
    },
    "id": "85FpgpJCYU9a",
    "outputId": "daa8d0f5-5e9c-4603-a685-c86355fd728e"
   },
   "outputs": [],
   "source": [
    "import os\n",
    "import time\n",
    "import numpy as np\n",
    "import pandas as pd\n",
    "import matplotlib.pyplot as plt\n",
    "import random\n",
    "random.seed(530)\n",
    "import warnings\n",
    "warnings.filterwarnings('ignore')\n",
    "\n",
    "from collections import Counter\n",
    "from scipy.io import loadmat\n",
    "from tqdm.auto import tqdm\n",
    "from glob import glob\n",
    "\n",
    "from sklearn.model_selection import train_test_split\n",
    "\n",
    "import tensorflow as tf\n",
    "from tensorflow.keras import Model\n",
    "from tensorflow.keras.callbacks import EarlyStopping, Callback\n",
    "from tensorflow.keras.layers import (concatenate, Conv2D, Dense, Dropout, BatchNormalization, MaxPooling2D,\n",
    "                          Embedding, Flatten, Input, MaxPool2D, Activation, GlobalAveragePooling2D,\n",
    "                          Reshape, GlobalAveragePooling2D, Layer)"
   ]
  },
  {
   "cell_type": "markdown",
   "metadata": {
    "id": "yRLiBwoiYU9a"
   },
   "source": [
    "# Data Load"
   ]
  },
  {
   "cell_type": "code",
   "execution_count": 3,
   "metadata": {},
   "outputs": [
    {
     "name": "stdout",
     "output_type": "stream",
     "text": [
      "Find 521 Data\n"
     ]
    }
   ],
   "source": [
    "# Set Data Path\n",
    "data_path = \"../MPIIGaze/Data/Normalized/\" # 전처리가 수행된 데이터셋 경로 정의\n",
    "mat_path = sorted(glob(os.path.join(data_path,\"p*\",\"day*.mat\"))) # p1*으로 수집한 데이터 경로 정의\n",
    "print(f\"Find {len(mat_path)} Data\") # 전체 mat 파일 수 출력"
   ]
  },
  {
   "cell_type": "markdown",
   "metadata": {},
   "source": [
    "## mat 데이터를 데이터프레임으로 전체 변환"
   ]
  },
  {
   "cell_type": "code",
   "execution_count": 4,
   "metadata": {},
   "outputs": [
    {
     "data": {
      "application/vnd.jupyter.widget-view+json": {
       "model_id": "c98f5b4c4d664059ac678182c4ad0b60",
       "version_major": 2,
       "version_minor": 0
      },
      "text/plain": [
       "  0%|          | 0/521 [00:00<?, ?it/s]"
      ]
     },
     "metadata": {},
     "output_type": "display_data"
    },
    {
     "data": {
      "text/html": [
       "<div>\n",
       "<style scoped>\n",
       "    .dataframe tbody tr th:only-of-type {\n",
       "        vertical-align: middle;\n",
       "    }\n",
       "\n",
       "    .dataframe tbody tr th {\n",
       "        vertical-align: top;\n",
       "    }\n",
       "\n",
       "    .dataframe thead th {\n",
       "        text-align: right;\n",
       "    }\n",
       "</style>\n",
       "<table border=\"1\" class=\"dataframe\">\n",
       "  <thead>\n",
       "    <tr style=\"text-align: right;\">\n",
       "      <th></th>\n",
       "      <th>participant_id</th>\n",
       "      <th>day</th>\n",
       "      <th>eye_location</th>\n",
       "      <th>image</th>\n",
       "      <th>pose_x</th>\n",
       "      <th>pose_y</th>\n",
       "      <th>pose_z</th>\n",
       "      <th>gaze_x</th>\n",
       "      <th>gaze_y</th>\n",
       "      <th>gaze_z</th>\n",
       "    </tr>\n",
       "  </thead>\n",
       "  <tbody>\n",
       "    <tr>\n",
       "      <th>0</th>\n",
       "      <td>p00</td>\n",
       "      <td>day01</td>\n",
       "      <td>right</td>\n",
       "      <td>[[198, 210, 222, 233, 239, 243, 245, 246, 245,...</td>\n",
       "      <td>-0.151908</td>\n",
       "      <td>0.241725</td>\n",
       "      <td>0.018486</td>\n",
       "      <td>-0.122025</td>\n",
       "      <td>0.090110</td>\n",
       "      <td>-0.988428</td>\n",
       "    </tr>\n",
       "    <tr>\n",
       "      <th>1</th>\n",
       "      <td>p00</td>\n",
       "      <td>day01</td>\n",
       "      <td>right</td>\n",
       "      <td>[[240, 245, 247, 246, 243, 238, 235, 233, 231,...</td>\n",
       "      <td>-0.175984</td>\n",
       "      <td>0.148409</td>\n",
       "      <td>0.013117</td>\n",
       "      <td>-0.099334</td>\n",
       "      <td>0.217299</td>\n",
       "      <td>-0.971038</td>\n",
       "    </tr>\n",
       "    <tr>\n",
       "      <th>2</th>\n",
       "      <td>p00</td>\n",
       "      <td>day01</td>\n",
       "      <td>right</td>\n",
       "      <td>[[233, 241, 245, 244, 241, 238, 237, 233, 230,...</td>\n",
       "      <td>-0.186510</td>\n",
       "      <td>0.174603</td>\n",
       "      <td>0.016372</td>\n",
       "      <td>-0.154061</td>\n",
       "      <td>0.159956</td>\n",
       "      <td>-0.975028</td>\n",
       "    </tr>\n",
       "  </tbody>\n",
       "</table>\n",
       "</div>"
      ],
      "text/plain": [
       "  participant_id    day eye_location   \n",
       "0            p00  day01        right  \\\n",
       "1            p00  day01        right   \n",
       "2            p00  day01        right   \n",
       "\n",
       "                                               image    pose_x    pose_y   \n",
       "0  [[198, 210, 222, 233, 239, 243, 245, 246, 245,... -0.151908  0.241725  \\\n",
       "1  [[240, 245, 247, 246, 243, 238, 235, 233, 231,... -0.175984  0.148409   \n",
       "2  [[233, 241, 245, 244, 241, 238, 237, 233, 230,... -0.186510  0.174603   \n",
       "\n",
       "     pose_z    gaze_x    gaze_y    gaze_z  \n",
       "0  0.018486 -0.122025  0.090110 -0.988428  \n",
       "1  0.013117 -0.099334  0.217299 -0.971038  \n",
       "2  0.016372 -0.154061  0.159956 -0.975028  "
      ]
     },
     "execution_count": 4,
     "metadata": {},
     "output_type": "execute_result"
    }
   ],
   "source": [
    "eye_loc_list = [\"right\", \"left\"] # 눈 위치 정의\n",
    "# mat 파일 1개씩 작업 수행\n",
    "datas = []\n",
    "for idx in tqdm(range(len(mat_path))):\n",
    "    cur_mat_path = mat_path[idx].replace(\"\\\\\",\"/\")\n",
    "    par_id = cur_mat_path.split(\"/\")[-2] # 참가자 id\n",
    "    day_id = cur_mat_path.split(\"/\")[-1].split(\".\")[0] # 수집 일자\n",
    "    \n",
    "    # load mat\n",
    "    mat_data = loadmat(cur_mat_path, squeeze_me=True, struct_as_record=True)['data']\n",
    "    # 눈 위치별 데이터 추출\n",
    "    for loc in eye_loc_list:\n",
    "        eye_loc_data = mat_data[loc].tolist()\n",
    "        \n",
    "        # 이미지 데이터\n",
    "        image_data = eye_loc_data[\"image\"].tolist()\n",
    "        if len(image_data.shape) < 3:\n",
    "            image_data = image_data[np.newaxis,:]\n",
    "        \n",
    "        # Head Pose 데이터\n",
    "        pose_data = eye_loc_data[\"pose\"].tolist()\n",
    "        if len(pose_data.shape) < 2:\n",
    "            pose_data = pose_data[np.newaxis,:]\n",
    "        \n",
    "        # Gaze 데이터\n",
    "        gaze_data = eye_loc_data[\"gaze\"].tolist()\n",
    "        if len(gaze_data.shape) < 2:\n",
    "            gaze_data = gaze_data[np.newaxis,:]\n",
    "        \n",
    "        for i in range(len(image_data)):\n",
    "            pose = pose_data[i].tolist()\n",
    "            gaze = gaze_data[i].tolist()\n",
    "            \n",
    "            data_list = [par_id, day_id, loc, image_data[i], pose[0], pose[1], pose[2], gaze[0], gaze[1], gaze[2]]\n",
    "            datas.append(data_list)\n",
    "\n",
    "# 리스트에 담아두었던 정보들을 DataFrame으로 생성\n",
    "data_df = pd.DataFrame(columns=[\"participant_id\",\"day\",\"eye_location\",\"image\",\"pose_x\",\"pose_y\",\"pose_z\",\"gaze_x\",\"gaze_y\",\"gaze_z\"], data=datas)\n",
    "data_df.head(3)"
   ]
  },
  {
   "cell_type": "markdown",
   "metadata": {},
   "source": [
    "## 오른쪽 눈 정보를 Y축으로 대칭"
   ]
  },
  {
   "cell_type": "code",
   "execution_count": 5,
   "metadata": {
    "scrolled": true
   },
   "outputs": [
    {
     "data": {
      "application/vnd.jupyter.widget-view+json": {
       "model_id": "46b3cc0224b8432c93228e943c37c1d3",
       "version_major": 2,
       "version_minor": 0
      },
      "text/plain": [
       "  0%|          | 0/427316 [00:00<?, ?it/s]"
      ]
     },
     "metadata": {},
     "output_type": "display_data"
    },
    {
     "data": {
      "text/html": [
       "<div>\n",
       "<style scoped>\n",
       "    .dataframe tbody tr th:only-of-type {\n",
       "        vertical-align: middle;\n",
       "    }\n",
       "\n",
       "    .dataframe tbody tr th {\n",
       "        vertical-align: top;\n",
       "    }\n",
       "\n",
       "    .dataframe thead th {\n",
       "        text-align: right;\n",
       "    }\n",
       "</style>\n",
       "<table border=\"1\" class=\"dataframe\">\n",
       "  <thead>\n",
       "    <tr style=\"text-align: right;\">\n",
       "      <th></th>\n",
       "      <th>participant_id</th>\n",
       "      <th>day</th>\n",
       "      <th>eye_location</th>\n",
       "      <th>image</th>\n",
       "      <th>pose_x</th>\n",
       "      <th>pose_y</th>\n",
       "      <th>pose_z</th>\n",
       "      <th>gaze_x</th>\n",
       "      <th>gaze_y</th>\n",
       "      <th>gaze_z</th>\n",
       "    </tr>\n",
       "  </thead>\n",
       "  <tbody>\n",
       "    <tr>\n",
       "      <th>0</th>\n",
       "      <td>p00</td>\n",
       "      <td>day01</td>\n",
       "      <td>right</td>\n",
       "      <td>[[110, 102, 96, 88, 84, 82, 82, 79, 79, 82, 82...</td>\n",
       "      <td>0.151908</td>\n",
       "      <td>0.241725</td>\n",
       "      <td>0.018486</td>\n",
       "      <td>0.122025</td>\n",
       "      <td>0.090110</td>\n",
       "      <td>-0.988428</td>\n",
       "    </tr>\n",
       "    <tr>\n",
       "      <th>1</th>\n",
       "      <td>p00</td>\n",
       "      <td>day01</td>\n",
       "      <td>right</td>\n",
       "      <td>[[106, 100, 92, 90, 88, 88, 90, 90, 92, 92, 95...</td>\n",
       "      <td>0.175984</td>\n",
       "      <td>0.148409</td>\n",
       "      <td>0.013117</td>\n",
       "      <td>0.099334</td>\n",
       "      <td>0.217299</td>\n",
       "      <td>-0.971038</td>\n",
       "    </tr>\n",
       "    <tr>\n",
       "      <th>2</th>\n",
       "      <td>p00</td>\n",
       "      <td>day01</td>\n",
       "      <td>right</td>\n",
       "      <td>[[96, 88, 85, 83, 88, 88, 88, 83, 80, 80, 83, ...</td>\n",
       "      <td>0.186510</td>\n",
       "      <td>0.174603</td>\n",
       "      <td>0.016372</td>\n",
       "      <td>0.154061</td>\n",
       "      <td>0.159956</td>\n",
       "      <td>-0.975028</td>\n",
       "    </tr>\n",
       "  </tbody>\n",
       "</table>\n",
       "</div>"
      ],
      "text/plain": [
       "  participant_id    day eye_location   \n",
       "0            p00  day01        right  \\\n",
       "1            p00  day01        right   \n",
       "2            p00  day01        right   \n",
       "\n",
       "                                               image    pose_x    pose_y   \n",
       "0  [[110, 102, 96, 88, 84, 82, 82, 79, 79, 82, 82...  0.151908  0.241725  \\\n",
       "1  [[106, 100, 92, 90, 88, 88, 90, 90, 92, 92, 95...  0.175984  0.148409   \n",
       "2  [[96, 88, 85, 83, 88, 88, 88, 83, 80, 80, 83, ...  0.186510  0.174603   \n",
       "\n",
       "     pose_z    gaze_x    gaze_y    gaze_z  \n",
       "0  0.018486  0.122025  0.090110 -0.988428  \n",
       "1  0.013117  0.099334  0.217299 -0.971038  \n",
       "2  0.016372  0.154061  0.159956 -0.975028  "
      ]
     },
     "execution_count": 5,
     "metadata": {},
     "output_type": "execute_result"
    }
   ],
   "source": [
    "flipped_df = data_df.copy()\n",
    "for i in tqdm(range(len(flipped_df))):\n",
    "    eye_location = flipped_df[\"eye_location\"].iloc[i]\n",
    "    if eye_location == \"right\":\n",
    "        # 이미지 좌우대칭\n",
    "        org_image = flipped_df[\"image\"].iloc[i]\n",
    "        new_image  = np.flip(org_image, axis=1)\n",
    "#         flipped_df.loc[i, \"image\"] = new_image\n",
    "        flipped_df[\"image\"].iloc[i] = new_image\n",
    "        \n",
    "        # 좌표 좌우대칭\n",
    "        org_head_x = flipped_df[\"pose_x\"].iloc[i]\n",
    "        new_head_x = -org_head_x\n",
    "        flipped_df[\"pose_x\"].iloc[i] = new_head_x\n",
    "#         flipped_df.loc[i, \"pose_x\"] = new_head_x\n",
    "        \n",
    "        org_gaze_x = flipped_df[\"gaze_x\"].iloc[i]\n",
    "        new_gaze_x = -org_gaze_x\n",
    "        flipped_df[\"gaze_x\"].iloc[i] = new_gaze_x\n",
    "#         flipped_df.loc[i:, \"gaze_x\"] = new_gaze_x\n",
    "flipped_df.head(3)"
   ]
  },
  {
   "cell_type": "markdown",
   "metadata": {},
   "source": [
    "## 각 참가자의 눈 위치별 1500개의 데이터 임의 추출"
   ]
  },
  {
   "cell_type": "code",
   "execution_count": 6,
   "metadata": {},
   "outputs": [],
   "source": [
    "par_list = sorted(list(set(list(flipped_df['participant_id'].values))))\n",
    "\n",
    "right_df = pd.DataFrame()\n",
    "left_df = pd.DataFrame()\n",
    "for i in range(len(par_list)):\n",
    "    par_df = flipped_df[flipped_df[\"participant_id\"] == par_list[i]]\n",
    "    par_right_df = par_df[par_df[\"eye_location\"] == \"right\"]\n",
    "    par_left_df = par_df[par_df[\"eye_location\"] == \"left\"]\n",
    "    \n",
    "    par_right_idx_list = list(par_right_df.index)\n",
    "    par_left_idx_list = list(par_left_df.index)\n",
    "    \n",
    "    while True:\n",
    "        if len(par_right_idx_list) < 1500:\n",
    "            par_right_idx_list.extend(par_right_idx_list)  # 오타 수정\n",
    "        else:\n",
    "            break\n",
    "    while True:\n",
    "        if len(par_left_idx_list) < 1500:\n",
    "            par_left_idx_list.extend(par_left_idx_list)  # 오타 수정\n",
    "        else:\n",
    "            break\n",
    "    \n",
    "    sample_right_idx_list = random.sample(par_right_idx_list, 1500)\n",
    "    sample_left_idx_list = random.sample(par_left_idx_list, 1500)\n",
    "    \n",
    "    sample_right_df = par_right_df.loc[sample_right_idx_list]  # 수정: iloc 대신 loc를 사용해야 함\n",
    "    sample_left_df = par_left_df.loc[sample_left_idx_list]  # 수정: iloc 대신 loc를 사용해야 함\n",
    "    \n",
    "    right_df = pd.concat([right_df, sample_right_df])\n",
    "    left_df = pd.concat([left_df, sample_left_df])\n",
    "\n",
    "menet_dataset = pd.concat([right_df, left_df])\n",
    "menet_dataset = menet_dataset.sort_values(by=['participant_id', 'day']).reset_index(drop=True)"
   ]
  },
  {
   "cell_type": "code",
   "execution_count": 7,
   "metadata": {},
   "outputs": [
    {
     "data": {
      "text/html": [
       "<div>\n",
       "<style scoped>\n",
       "    .dataframe tbody tr th:only-of-type {\n",
       "        vertical-align: middle;\n",
       "    }\n",
       "\n",
       "    .dataframe tbody tr th {\n",
       "        vertical-align: top;\n",
       "    }\n",
       "\n",
       "    .dataframe thead th {\n",
       "        text-align: right;\n",
       "    }\n",
       "</style>\n",
       "<table border=\"1\" class=\"dataframe\">\n",
       "  <thead>\n",
       "    <tr style=\"text-align: right;\">\n",
       "      <th></th>\n",
       "      <th>participant_id</th>\n",
       "      <th>day</th>\n",
       "      <th>eye_location</th>\n",
       "      <th>image</th>\n",
       "      <th>pose_x</th>\n",
       "      <th>pose_y</th>\n",
       "      <th>pose_z</th>\n",
       "      <th>gaze_x</th>\n",
       "      <th>gaze_y</th>\n",
       "      <th>gaze_z</th>\n",
       "    </tr>\n",
       "  </thead>\n",
       "  <tbody>\n",
       "    <tr>\n",
       "      <th>44997</th>\n",
       "      <td>p14</td>\n",
       "      <td>day07</td>\n",
       "      <td>left</td>\n",
       "      <td>[[121, 121, 121, 114, 114, 123, 106, 94, 110, ...</td>\n",
       "      <td>-0.050017</td>\n",
       "      <td>-0.060703</td>\n",
       "      <td>-0.001519</td>\n",
       "      <td>0.066417</td>\n",
       "      <td>0.059492</td>\n",
       "      <td>-0.996017</td>\n",
       "    </tr>\n",
       "    <tr>\n",
       "      <th>44998</th>\n",
       "      <td>p14</td>\n",
       "      <td>day07</td>\n",
       "      <td>left</td>\n",
       "      <td>[[240, 239, 235, 231, 222, 210, 206, 210, 182,...</td>\n",
       "      <td>-0.111802</td>\n",
       "      <td>0.351175</td>\n",
       "      <td>0.019857</td>\n",
       "      <td>-0.249634</td>\n",
       "      <td>0.148032</td>\n",
       "      <td>-0.956958</td>\n",
       "    </tr>\n",
       "    <tr>\n",
       "      <th>44999</th>\n",
       "      <td>p14</td>\n",
       "      <td>day07</td>\n",
       "      <td>left</td>\n",
       "      <td>[[124, 102, 112, 112, 96, 89, 102, 105, 96, 96...</td>\n",
       "      <td>-0.105359</td>\n",
       "      <td>0.188947</td>\n",
       "      <td>0.009993</td>\n",
       "      <td>0.109166</td>\n",
       "      <td>0.291560</td>\n",
       "      <td>-0.950303</td>\n",
       "    </tr>\n",
       "  </tbody>\n",
       "</table>\n",
       "</div>"
      ],
      "text/plain": [
       "      participant_id    day eye_location   \n",
       "44997            p14  day07         left  \\\n",
       "44998            p14  day07         left   \n",
       "44999            p14  day07         left   \n",
       "\n",
       "                                                   image    pose_x    pose_y   \n",
       "44997  [[121, 121, 121, 114, 114, 123, 106, 94, 110, ... -0.050017 -0.060703  \\\n",
       "44998  [[240, 239, 235, 231, 222, 210, 206, 210, 182,... -0.111802  0.351175   \n",
       "44999  [[124, 102, 112, 112, 96, 89, 102, 105, 96, 96... -0.105359  0.188947   \n",
       "\n",
       "         pose_z    gaze_x    gaze_y    gaze_z  \n",
       "44997 -0.001519  0.066417  0.059492 -0.996017  \n",
       "44998  0.019857 -0.249634  0.148032 -0.956958  \n",
       "44999  0.009993  0.109166  0.291560 -0.950303  "
      ]
     },
     "execution_count": 7,
     "metadata": {},
     "output_type": "execute_result"
    }
   ],
   "source": [
    "menet_dataset.tail(3)"
   ]
  },
  {
   "cell_type": "markdown",
   "metadata": {
    "id": "R2EKKFQlYU9b"
   },
   "source": [
    "# Set Parameters"
   ]
  },
  {
   "cell_type": "code",
   "execution_count": 8,
   "metadata": {
    "executionInfo": {
     "elapsed": 3,
     "status": "ok",
     "timestamp": 1691157063809,
     "user": {
      "displayName": "DongKyu Moon",
      "userId": "13679376230758781592"
     },
     "user_tz": -540
    },
    "id": "UypXs6Z9YU9b"
   },
   "outputs": [],
   "source": [
    "# 전처리된 이미지의 크기 정보 정의\n",
    "sample_img = menet_dataset['image'].iloc[0]\n",
    "IMG_HEIGHT, IMG_WIDTH = sample_img.shape[0], sample_img.shape[1] # 36, 60\n",
    "\n",
    "# 모델 학습이 필요한 파라미터 변수 정의\n",
    "batch_size = 32\n",
    "epochs = 100\n",
    "patience = 15\n",
    "\n",
    "# Target 변수 정의\n",
    "head_col = [\"pose_x\", \"pose_y\", \"pose_z\"]\n",
    "y_col = [\"gaze_x\",\"gaze_y\",\"gaze_z\"]\n",
    "\n",
    "# 참가자 정보 중 몇명의 참가자가 있는지 count 수행한 변수 정의\n",
    "n_cats = len(list(set(list(menet_dataset['participant_id'].values))))"
   ]
  },
  {
   "cell_type": "markdown",
   "metadata": {
    "id": "WS2rbVh_YU9b"
   },
   "source": [
    "# Get Data Generator"
   ]
  },
  {
   "cell_type": "code",
   "execution_count": 9,
   "metadata": {
    "executionInfo": {
     "elapsed": 2,
     "status": "ok",
     "timestamp": 1691157063809,
     "user": {
      "displayName": "DongKyu Moon",
      "userId": "13679376230758781592"
     },
     "user_tz": -540
    },
    "id": "339Ne89nYU9c"
   },
   "outputs": [],
   "source": [
    "# Dataset Split 수행\n",
    "def get_generators(df):\n",
    "    # DataFrame에서 train/valid/test로 나누기 수행\n",
    "    train, test = train_test_split(df, test_size=0.2, random_state=530)\n",
    "    train, valid = train_test_split(train, test_size=0.2, random_state=530)\n",
    "\n",
    "    # 각 데이터셋 별 인덱스 정보 추출\n",
    "    train_idxs = train.index.to_numpy()\n",
    "    valid_idxs = valid.index.to_numpy()\n",
    "    test_idxs = test.index.to_numpy()\n",
    "\n",
    "    # 각 데이터셋에는 이미지와 시선 벡터 정보만 X와 y로 구성되도록 작업 수행\n",
    "    train_generator = ([np.stack(train[\"image\"].to_list()), np.array(train[head_col].values)], np.array(train[y_col].values))\n",
    "    valid_generator = ([np.stack(valid[\"image\"].to_list()), np.array(valid[head_col].values)], np.array(valid[y_col].values))\n",
    "    test_generator = ([np.stack(test[\"image\"].to_list()), np.array(test[head_col].values)], np.array(test[y_col].values))\n",
    "\n",
    "    return train_generator, valid_generator, test_generator, train_idxs, valid_idxs, test_idxs\n",
    "\n",
    "train_generator, valid_generator, test_generator, train_idxs, valid_idxs, test_idxs = get_generators(menet_dataset)"
   ]
  },
  {
   "cell_type": "markdown",
   "metadata": {
    "id": "yub_M_9EYU9c"
   },
   "source": [
    "# Define Menet Architecture"
   ]
  },
  {
   "cell_type": "code",
   "execution_count": 10,
   "metadata": {
    "executionInfo": {
     "elapsed": 11,
     "status": "ok",
     "timestamp": 1691157074378,
     "user": {
      "displayName": "DongKyu Moon",
      "userId": "13679376230758781592"
     },
     "user_tz": -540
    },
    "id": "l3dLROm8YU9c"
   },
   "outputs": [],
   "source": [
    "# 정의한 CNN 모델의 출력 전 Layer에서의 출력(feature map)을 가져오는 함수\n",
    "def get_feature_map(model, X):\n",
    "    last_layer = Model(inputs = model.input, outputs = model.layers[-5].output)\n",
    "    return last_layer.predict(X, verbose=0)"
   ]
  },
  {
   "cell_type": "code",
   "execution_count": 11,
   "metadata": {
    "executionInfo": {
     "elapsed": 10,
     "status": "ok",
     "timestamp": 1691157074378,
     "user": {
      "displayName": "DongKyu Moon",
      "userId": "13679376230758781592"
     },
     "user_tz": -540
    },
    "id": "r2d1e8GSYU9c"
   },
   "outputs": [],
   "source": [
    "# Negative Log Likelihood 계산 수식 함수\n",
    "def nll_i(y_i, f_hat_i, Z_i, b_hat_i, R_hat_i, D_hat):\n",
    "    total = 0\n",
    "    for j in range(b_hat_i.shape[1]):\n",
    "        b_col = b_hat_i[:, j]\n",
    "        total += b_col.T @ np.linalg.inv(D_hat) @ b_col\n",
    "    nll = (y_i - f_hat_i - Z_i @ b_hat_i).T @ np.linalg.inv(R_hat_i) @ (y_i - f_hat_i - Z_i @ b_hat_i) + total + (np.sum(np.log(np.diag(D_hat)))/D_hat.shape[0]) + (np.sum(np.log(np.diag(R_hat_i)))/R_hat_i.shape[0])\n",
    "\n",
    "    return nll"
   ]
  },
  {
   "cell_type": "code",
   "execution_count": 12,
   "metadata": {
    "executionInfo": {
     "elapsed": 10,
     "status": "ok",
     "timestamp": 1691157074379,
     "user": {
      "displayName": "DongKyu Moon",
      "userId": "13679376230758781592"
     },
     "user_tz": -540
    },
    "id": "VGvISFApYU9c"
   },
   "outputs": [],
   "source": [
    "# Early Stop 기능 함수\n",
    "def check_stop_model(nll_valid, best_loss, wait_loss, patience):\n",
    "    stop_model = False\n",
    "    if nll_valid < best_loss:\n",
    "        best_loss = nll_valid\n",
    "        wait_loss = 0\n",
    "    else:\n",
    "        wait_loss += 1\n",
    "        if wait_loss >= patience:\n",
    "            stop_model = True\n",
    "    return best_loss, wait_loss, stop_model"
   ]
  },
  {
   "cell_type": "code",
   "execution_count": 21,
   "metadata": {
    "executionInfo": {
     "elapsed": 10,
     "status": "ok",
     "timestamp": 1691157074379,
     "user": {
      "displayName": "DongKyu Moon",
      "userId": "13679376230758781592"
     },
     "user_tz": -540
    },
    "id": "HdzctjbqYU9c"
   },
   "outputs": [],
   "source": [
    "# Negative Log Likelihood 계산을 위한 함수\n",
    "def compute_nll_generator(model, generator, b_hat, D_hat, sig2e_est, maps2ind, n_clusters, cnt_clusters):\n",
    "    inputs_data, labels = generator\n",
    "    inputs = inputs_data[0]\n",
    "    head_pose = inputs_data[1]\n",
    "    inputs = np.reshape(inputs, (inputs.shape[0], inputs.shape[1], inputs.shape[2], 1))\n",
    "    y = np.array(labels)\n",
    "\n",
    "    f_hat = model.predict([inputs, head_pose], verbose=0).reshape(inputs.shape[0], 3)\n",
    "    Z = get_feature_map(model, [inputs, head_pose])\n",
    "    nll = 0\n",
    "    for cluster_id in range(n_clusters):\n",
    "        indices_i = maps2ind[cluster_id]\n",
    "        n_i = cnt_clusters[f\"p{str(cluster_id).zfill(2)}\"]\n",
    "        y_i = y[indices_i]\n",
    "        Z_i = Z[indices_i, :]\n",
    "        f_hat_i = f_hat[indices_i]\n",
    "\n",
    "        reg_factor = 1e-1\n",
    "        I_i = np.eye(n_i) * reg_factor\n",
    "        R_hat_i = sig2e_est * I_i\n",
    "\n",
    "        b_hat_i = b_hat[cluster_id, :]\n",
    "        nll_i_val = nll_i(y_i, f_hat_i, Z_i, b_hat_i, R_hat_i, D_hat)\n",
    "        nll += nll_i_val\n",
    "    return nll"
   ]
  },
  {
   "cell_type": "code",
   "execution_count": 14,
   "metadata": {
    "executionInfo": {
     "elapsed": 10,
     "status": "ok",
     "timestamp": 1691157074379,
     "user": {
      "displayName": "DongKyu Moon",
      "userId": "13679376230758781592"
     },
     "user_tz": -540
    },
    "id": "CdGs0_EIYU9d"
   },
   "outputs": [],
   "source": [
    "# MeNet 학습 함수\n",
    "def menet_fit_generator(model, train_generator, valid_generator, clusters_train, clusters_valid, n_clusters, epochs, callbacks, patience, verbose=1):\n",
    "    train_data, y_train = train_generator # 학습 데이터 호출\n",
    "    X_train = train_data[0]\n",
    "    Head_pose = train_data[1]\n",
    "    X_train = np.reshape(X_train, (X_train.shape[0], X_train.shape[1], X_train.shape[2], 1)) # X 데이터 정의 및 이미지 형태로 reshape\n",
    "    y_train = np.array(y_train) # y 데이터 정의\n",
    "\n",
    "    # 각 참가자에 해당하는 데이터의 위치를 매핑하기 위한 정보 리스트\n",
    "    maps2ind_train = [list(np.where(clusters_train == f\"p{str(i).zfill(2)}\")[0]) for i in range(n_clusters)]\n",
    "    maps2ind_valid = [list(np.where(clusters_valid == f\"p{str(i).zfill(2)}\")[0]) for i in range(n_clusters)]\n",
    "\n",
    "    # 각 참가자의 데이터가 어느 정도 있는지 count 하는 구문\n",
    "    cnt_clusters_train = Counter(clusters_train)\n",
    "    cnt_clusters_valid = Counter(clusters_valid)\n",
    "\n",
    "    # 초기 값 정의\n",
    "    Z = get_feature_map(model, [X_train, Head_pose])\n",
    "    d = Z.shape[1]\n",
    "    b_hat = np.zeros((n_clusters, d , y_train.shape[1]))\n",
    "    D_hat = np.eye(d)\n",
    "    sig2e_est = 1.0\n",
    "\n",
    "    nll_history = {'train': [], 'valid': []}\n",
    "    best_loss = np.inf\n",
    "    wait_loss = 0\n",
    "\n",
    "    # 학습 수행\n",
    "    for epoch in range(epochs):\n",
    "        ts = time.time() # 학습 시작 초\n",
    "        print(\"E-Step\")\n",
    "        y_star = np.zeros(y_train.shape) # y_start를 y 데이터의 shape의 크기를 갖는 0의 배열로 정의\n",
    "        # 각 참가자별 y_star 계산\n",
    "        for cluster_id in range(n_clusters):\n",
    "            indices_i = maps2ind_train[cluster_id]\n",
    "            b_hat_i = b_hat[cluster_id, :]\n",
    "            y_star_i = y_train[indices_i] - Z[indices_i, :] @ b_hat_i\n",
    "            y_star[indices_i] = y_star_i\n",
    "        # y_star 추론\n",
    "        model.fit([X_train, Head_pose], y_star, epochs=1, verbose=1)\n",
    "\n",
    "        # y_star로 학습한 모형에서 X에 대하여 feature map 추출\n",
    "        Z = get_feature_map(model, [X_train, Head_pose])\n",
    "        # f_hat 추론\n",
    "        f_hat = model.predict([X_train, Head_pose], verbose=0).reshape(X_train.shape[0], 3)\n",
    "\n",
    "        print(\"M-Step\")\n",
    "        sig2e_est_sum = 0\n",
    "        D_hat_sum = 0\n",
    "        for cluster_id in range(n_clusters):\n",
    "            indices_i = maps2ind_train[cluster_id]\n",
    "            n_i = cnt_clusters_train[f\"p{str(cluster_id).zfill(2)}\"]\n",
    "            f_hat_i = f_hat[indices_i] # 해당 클러스터에 속하는 샘플의 예측값\n",
    "            y_i = y_train[indices_i] # 해당 클러스터에 속하는 샘플의 실제값\n",
    "            Z_i = Z[indices_i, :] # 해당 클러스터에 속하는 샘플의 feature map\n",
    "            \n",
    "            # V_hat 계산\n",
    "            V_hat_i = Z_i @ D_hat @ np.transpose(Z_i) + sig2e_est * np.eye(n_i)\n",
    "            V_hat_inv_i =  np.linalg.inv(V_hat_i) # V_hat의 역행렬\n",
    "            \n",
    "            # b_hat 갱신\n",
    "            b_hat_i = D_hat @ np.transpose(Z_i) @ V_hat_inv_i @ (y_i - f_hat_i)\n",
    "            eps_hat_i = y_i - f_hat_i - Z_i @ b_hat_i # 잔차들의 합\n",
    "            b_hat[cluster_id, :] = b_hat_i\n",
    "            \n",
    "            # sig2e 추정값의 합 갱신\n",
    "            residual_sum = np.sum(eps_hat_i**2)\n",
    "            sig2e_est_sum = sig2e_est_sum + residual_sum + sig2e_est * (n_i - sig2e_est * np.trace(V_hat_inv_i))\n",
    "            # D_hat의 합 갱신\n",
    "            D_hat_sum = D_hat_sum + b_hat_i @ np.transpose(b_hat_i) + (D_hat - D_hat @ np.transpose(Z_i) @ V_hat_inv_i @ Z_i @ D_hat)\n",
    "        sig2e_est = sig2e_est_sum / X_train.shape[0] # sig2e 추정값 갱신\n",
    "        D_hat = D_hat_sum / n_clusters # D_hat 계산\n",
    "\n",
    "        # nll 계산 수행 구문\n",
    "        nll_train = compute_nll_generator(model, train_generator, b_hat, D_hat, sig2e_est, maps2ind_train, n_clusters, cnt_clusters_train)\n",
    "        nll_train_sum = np.sum(nll_train)/y_train.shape[1]\n",
    "        \n",
    "        nll_valid = compute_nll_generator(model, valid_generator, b_hat, D_hat, sig2e_est, maps2ind_valid, n_clusters, cnt_clusters_valid)\n",
    "        nll_valid_sum = np.sum(nll_valid)/y_train.shape[1]\n",
    "        \n",
    "        # nll 계산 결과 저장하는 리스트\n",
    "        nll_history['train'].append(nll_train_sum)\n",
    "        nll_history['valid'].append(nll_valid_sum)\n",
    "        # 최적 모델을 위한 early stopping 구현\n",
    "        best_loss, wait_loss, stop_model = check_stop_model(nll_valid_sum, best_loss, wait_loss, patience)\n",
    "        te = time.time()\n",
    "        \n",
    "        if verbose:\n",
    "            print(f'epoch: {epoch}, train_loss: {nll_train_sum:.2f}, val_loss: {nll_valid_sum:.2f}, sig2e_est: {sig2e_est:.2f}, time : {te-ts}\\n')\n",
    "        if stop_model:\n",
    "            break\n",
    "    n_epochs = len(nll_history['valid'])\n",
    "    return model, b_hat, sig2e_est, n_epochs, nll_history"
   ]
  },
  {
   "cell_type": "code",
   "execution_count": 15,
   "metadata": {
    "executionInfo": {
     "elapsed": 9,
     "status": "ok",
     "timestamp": 1691157074379,
     "user": {
      "displayName": "DongKyu Moon",
      "userId": "13679376230758781592"
     },
     "user_tz": -540
    },
    "id": "M7ttbzvyYU9d"
   },
   "outputs": [],
   "source": [
    "def menet_predict_generator(model, test_generator, clusters, n_clusters, b_hat):\n",
    "    test_data, y_test = test_generator\n",
    "    X_test = test_data[0]\n",
    "    Head_pose = test_data[1]\n",
    "    X_test = np.reshape(X_test, (X_test.shape[0], X_test.shape[1], X_test.shape[2], 1))\n",
    "\n",
    "    y_hat = model.predict([X_test, Head_pose], verbose=0).reshape(X_test.shape[0],3)\n",
    "    Z = get_feature_map(model, [X_test, Head_pose])\n",
    "    \n",
    "    for cluster_id in range(n_clusters):\n",
    "        indices_i = np.where(clusters == f\"p{str(cluster_id).zfill(2)}\")[0]\n",
    "        if len(indices_i) == 0:\n",
    "            continue\n",
    "        b_i = b_hat[cluster_id, :]\n",
    "        Z_i = Z[indices_i, :]\n",
    "        y_hat[indices_i] = y_hat[indices_i] + Z_i @ b_i\n",
    "    return y_hat"
   ]
  },
  {
   "cell_type": "markdown",
   "metadata": {
    "id": "yribSvLhYU9d"
   },
   "source": [
    "# Define CNN Model"
   ]
  },
  {
   "cell_type": "code",
   "execution_count": 16,
   "metadata": {
    "executionInfo": {
     "elapsed": 3582,
     "status": "ok",
     "timestamp": 1691157077952,
     "user": {
      "displayName": "DongKyu Moon",
      "userId": "13679376230758781592"
     },
     "user_tz": -540
    },
    "id": "nZ0fgfTyYU9d"
   },
   "outputs": [],
   "source": [
    "def cnn_ignore():\n",
    "    input_layer = Input((IMG_HEIGHT, IMG_WIDTH, 1))\n",
    "    x = Conv2D(32, (5, 5), activation='relu')(input_layer)\n",
    "    x = Conv2D(64, (5, 5), activation='relu')(x)\n",
    "    x = Conv2D(32, (5, 5), activation='relu')(x)\n",
    "    x = Conv2D(16, (5, 5), activation='relu')(x)\n",
    "    x = MaxPool2D((2, 2))(x)\n",
    "    x = Flatten()(x)\n",
    "    x = Dropout(0.5)(x)\n",
    "    x = Dense(32, activation='relu')(x)\n",
    "    output = Dense(3)(x)\n",
    "    return Model(inputs=[input_layer], outputs=output)"
   ]
  },
  {
   "cell_type": "markdown",
   "metadata": {},
   "source": [
    "# Define ResNet-18\n",
    "- MeNet 2019"
   ]
  },
  {
   "cell_type": "code",
   "execution_count": 17,
   "metadata": {},
   "outputs": [],
   "source": [
    "def resnet_block(inputs, filters, kernel_size=3, stride=1, conv_shortcut=True):\n",
    "    x = Conv2D(filters, kernel_size=kernel_size, strides=stride, padding='same')(inputs)\n",
    "    x = BatchNormalization()(x)\n",
    "    x = Activation('relu')(x)\n",
    "    \n",
    "    x = Conv2D(filters, kernel_size=kernel_size, padding='same')(x)\n",
    "    x = BatchNormalization()(x)\n",
    "    \n",
    "    if conv_shortcut:\n",
    "        shortcut = Conv2D(filters, kernel_size=1, strides=stride)(inputs)\n",
    "        shortcut = BatchNormalization()(shortcut)\n",
    "        x = tf.keras.layers.add([x, shortcut])\n",
    "    else:\n",
    "        x = tf.keras.layers.add([x, inputs])\n",
    "    \n",
    "    x = Activation('relu')(x)\n",
    "    return x\n",
    "\n",
    "def build_resnet18():\n",
    "    img_inputs = Input((IMG_HEIGHT, IMG_WIDTH, 1))\n",
    "    pose_inputs = Input(3)\n",
    "    \n",
    "    # ResNet Architecture\n",
    "    x = Conv2D(64, kernel_size=7, strides=2, padding='same')(img_inputs)\n",
    "    x = BatchNormalization()(x)\n",
    "    x = Activation('relu')(x)\n",
    "    x = MaxPooling2D(pool_size=3, strides=2, padding='same')(x)\n",
    "    \n",
    "    x = resnet_block(x, 64, conv_shortcut=False)\n",
    "    x = resnet_block(x, 64)\n",
    "    x = resnet_block(x, 64)\n",
    "    \n",
    "    x = resnet_block(x, 128, stride=2)\n",
    "    x = resnet_block(x, 128)\n",
    "    x = resnet_block(x, 128)\n",
    "    \n",
    "    x = resnet_block(x, 256, stride=2)\n",
    "    x = resnet_block(x, 256)\n",
    "    x = resnet_block(x, 256)\n",
    "    \n",
    "    x = resnet_block(x, 512, stride=2)\n",
    "    x = resnet_block(x, 512)\n",
    "    x = resnet_block(x, 512)\n",
    "    \n",
    "    x = GlobalAveragePooling2D()(x)\n",
    "    \n",
    "    # Head Pose와 결합하기 위하여 Conv 배열 Flatten Feature Map 생성\n",
    "    x = Flatten()(x)\n",
    "    # Image Feature Map과 Head Pose Concatenate\n",
    "    x = concatenate([x, pose_inputs])\n",
    "    # Model 출력\n",
    "    outputs = Dense(3, activation='relu')(x)\n",
    "    \n",
    "    model = Model([img_inputs, pose_inputs], outputs)\n",
    "    return model"
   ]
  },
  {
   "cell_type": "markdown",
   "metadata": {},
   "source": [
    "# Model Training"
   ]
  },
  {
   "cell_type": "code",
   "execution_count": 22,
   "metadata": {
    "scrolled": true
   },
   "outputs": [],
   "source": [
    "model = build_resnet18() # cnn_ignore()\n",
    "model.compile(loss='mse', optimizer='adam')\n",
    "callbacks = [EarlyStopping(monitor='val_loss', patience=epochs if patience is None else patience)]"
   ]
  },
  {
   "cell_type": "code",
   "execution_count": 19,
   "metadata": {
    "colab": {
     "base_uri": "https://localhost:8080/"
    },
    "executionInfo": {
     "elapsed": 4,
     "status": "ok",
     "timestamp": 1691157077953,
     "user": {
      "displayName": "DongKyu Moon",
      "userId": "13679376230758781592"
     },
     "user_tz": -540
    },
    "id": "N286AhgEdygk",
    "outputId": "8cadcfc5-42ae-4d04-ebf8-06e7c6ba052d"
   },
   "outputs": [],
   "source": [
    "clusters_train = np.array([menet_dataset['participant_id'][idx] for idx in train_idxs])\n",
    "clusters_valid = np.array([menet_dataset['participant_id'][idx] for idx in valid_idxs])\n",
    "clusters_test = np.array([menet_dataset['participant_id'][idx] for idx in test_idxs])"
   ]
  },
  {
   "cell_type": "code",
   "execution_count": 23,
   "metadata": {
    "colab": {
     "base_uri": "https://localhost:8080/"
    },
    "id": "qLkmbutEYU9d",
    "outputId": "a6d48389-7275-43ed-dcf3-53f37f79eef2"
   },
   "outputs": [
    {
     "name": "stdout",
     "output_type": "stream",
     "text": [
      "(28800, 3)\n",
      "E-Step\n",
      "900/900 [==============================] - 48s 50ms/step - loss: 0.3340\n",
      "M-Step\n",
      "epoch: 0, train_loss: 6640.95, val_loss: 2366.10, sig2e_est: 0.16, time : 95.6845030784607\n",
      "\n",
      "E-Step\n",
      "900/900 [==============================] - 46s 50ms/step - loss: 0.0034\n",
      "M-Step\n",
      "epoch: 1, train_loss: 24010.24, val_loss: 9787.92, sig2e_est: 0.04, time : 93.83336901664734\n",
      "\n",
      "E-Step\n",
      "873/900 [============================>.] - ETA: 1s - loss: 0.0030"
     ]
    }
   ],
   "source": [
    "train_time = time.time()\n",
    "model, b_hat, sig2e_est, n_epochs, _ = menet_fit_generator(model, train_generator, valid_generator,\n",
    "                                                           clusters_train, clusters_valid, n_cats,epochs=epochs,\n",
    "                                                           callbacks=callbacks, patience=patience, verbose=1)\n",
    "\n",
    "print(\"=\"*20)\n",
    "print(f\"Total Training Time : {time.time() - train_time}(s)\")\n",
    "print(\"=\"*20)"
   ]
  },
  {
   "cell_type": "code",
   "execution_count": null,
   "metadata": {
    "id": "xfJvhkhTYU9d"
   },
   "outputs": [],
   "source": [
    "y_pred = menet_predict_generator(model, test_generator, clusters_test, n_cats, b_hat).reshape(len(test_generator[0]),3)"
   ]
  },
  {
   "cell_type": "code",
   "execution_count": null,
   "metadata": {},
   "outputs": [],
   "source": [
    "pred_df = pd.DataFrame(columns=[\"x_pred\",\"y_pred\",\"z_pred\"],data=y_pred)\n",
    "pred_df.to_csv(\"./result/menet_result.csv\",index=False)"
   ]
  },
  {
   "cell_type": "code",
   "execution_count": null,
   "metadata": {},
   "outputs": [],
   "source": [
    "real_df = pd.DataFrame(columns=[\"x_real\",\"y_real\",\"z_real\"], data=test_generator[1])\n",
    "real_df.to_csv(\"./result/menet_real.csv\",index=False)"
   ]
  },
  {
   "cell_type": "markdown",
   "metadata": {},
   "source": [
    "# Evalutation\n",
    "- 3d vector dot"
   ]
  },
  {
   "cell_type": "code",
   "execution_count": null,
   "metadata": {},
   "outputs": [],
   "source": [
    "print(\"Y Predict Sample\")\n",
    "print(y_pred[:5])\n",
    "print()\n",
    "print(\"Y Real Sample\")\n",
    "print(test_generator[1][:5])"
   ]
  },
  {
   "cell_type": "code",
   "execution_count": null,
   "metadata": {},
   "outputs": [],
   "source": [
    "dot_list = []\n",
    "for i in range(len(y_pred)):\n",
    "    y_hat = y_pred[i]\n",
    "    y_trh = test_generator[1][i]\n",
    "    \n",
    "    vector_dot = np.dot(y_trh, y_hat)\n",
    "    dot_list.append(vector_dot)\n",
    "\n",
    "mean_dot = (sum(dot_list)/len(dot_list))\n",
    "max_dot = max(dot_list)\n",
    "min_dot = min(dot_list)\n",
    "\n",
    "print(\"Mean : \", mean_dot)\n",
    "print(\"Max : \", max_dot)\n",
    "print(\"Min : \", min_dot)"
   ]
  },
  {
   "cell_type": "code",
   "execution_count": null,
   "metadata": {},
   "outputs": [],
   "source": [
    "# cosin ceta\n",
    "\n",
    "# 10월 중순 발표\n",
    "# 19년도에 논문으로 구현(target 변수, resnet)\n",
    "# NNNN코드에 대하여 gaze 데이터에 대하여 적용"
   ]
  },
  {
   "cell_type": "code",
   "execution_count": null,
   "metadata": {},
   "outputs": [],
   "source": []
  }
 ],
 "metadata": {
  "accelerator": "GPU",
  "colab": {
   "gpuType": "A100",
   "machine_shape": "hm",
   "provenance": []
  },
  "kernelspec": {
   "display_name": "Python 3 (ipykernel)",
   "language": "python",
   "name": "python3"
  },
  "language_info": {
   "codemirror_mode": {
    "name": "ipython",
    "version": 3
   },
   "file_extension": ".py",
   "mimetype": "text/x-python",
   "name": "python",
   "nbconvert_exporter": "python",
   "pygments_lexer": "ipython3",
   "version": "3.10.9"
  },
  "widgets": {
   "application/vnd.jupyter.widget-state+json": {
    "0e724c7c50cb48a0bc21754fc945e966": {
     "model_module": "@jupyter-widgets/base",
     "model_module_version": "1.2.0",
     "model_name": "LayoutModel",
     "state": {
      "_model_module": "@jupyter-widgets/base",
      "_model_module_version": "1.2.0",
      "_model_name": "LayoutModel",
      "_view_count": null,
      "_view_module": "@jupyter-widgets/base",
      "_view_module_version": "1.2.0",
      "_view_name": "LayoutView",
      "align_content": null,
      "align_items": null,
      "align_self": null,
      "border": null,
      "bottom": null,
      "display": null,
      "flex": null,
      "flex_flow": null,
      "grid_area": null,
      "grid_auto_columns": null,
      "grid_auto_flow": null,
      "grid_auto_rows": null,
      "grid_column": null,
      "grid_gap": null,
      "grid_row": null,
      "grid_template_areas": null,
      "grid_template_columns": null,
      "grid_template_rows": null,
      "height": null,
      "justify_content": null,
      "justify_items": null,
      "left": null,
      "margin": null,
      "max_height": null,
      "max_width": null,
      "min_height": null,
      "min_width": null,
      "object_fit": null,
      "object_position": null,
      "order": null,
      "overflow": null,
      "overflow_x": null,
      "overflow_y": null,
      "padding": null,
      "right": null,
      "top": null,
      "visibility": null,
      "width": null
     }
    },
    "2acc597136804e3ca9e4d1219fe8a6ba": {
     "model_module": "@jupyter-widgets/controls",
     "model_module_version": "1.5.0",
     "model_name": "DescriptionStyleModel",
     "state": {
      "_model_module": "@jupyter-widgets/controls",
      "_model_module_version": "1.5.0",
      "_model_name": "DescriptionStyleModel",
      "_view_count": null,
      "_view_module": "@jupyter-widgets/base",
      "_view_module_version": "1.2.0",
      "_view_name": "StyleView",
      "description_width": ""
     }
    },
    "34f90789418d4e3ea5debe53a0962df7": {
     "model_module": "@jupyter-widgets/controls",
     "model_module_version": "1.5.0",
     "model_name": "HTMLModel",
     "state": {
      "_dom_classes": [],
      "_model_module": "@jupyter-widgets/controls",
      "_model_module_version": "1.5.0",
      "_model_name": "HTMLModel",
      "_view_count": null,
      "_view_module": "@jupyter-widgets/controls",
      "_view_module_version": "1.5.0",
      "_view_name": "HTMLView",
      "description": "",
      "description_tooltip": null,
      "layout": "IPY_MODEL_0e724c7c50cb48a0bc21754fc945e966",
      "placeholder": "​",
      "style": "IPY_MODEL_6c53ed2245ec47bf8db92158eb7b0100",
      "value": " 521/521 [05:04&lt;00:00,  1.72it/s]"
     }
    },
    "57b6801033e34761ad12b3d4139e570d": {
     "model_module": "@jupyter-widgets/controls",
     "model_module_version": "1.5.0",
     "model_name": "ProgressStyleModel",
     "state": {
      "_model_module": "@jupyter-widgets/controls",
      "_model_module_version": "1.5.0",
      "_model_name": "ProgressStyleModel",
      "_view_count": null,
      "_view_module": "@jupyter-widgets/base",
      "_view_module_version": "1.2.0",
      "_view_name": "StyleView",
      "bar_color": null,
      "description_width": ""
     }
    },
    "6c53ed2245ec47bf8db92158eb7b0100": {
     "model_module": "@jupyter-widgets/controls",
     "model_module_version": "1.5.0",
     "model_name": "DescriptionStyleModel",
     "state": {
      "_model_module": "@jupyter-widgets/controls",
      "_model_module_version": "1.5.0",
      "_model_name": "DescriptionStyleModel",
      "_view_count": null,
      "_view_module": "@jupyter-widgets/base",
      "_view_module_version": "1.2.0",
      "_view_name": "StyleView",
      "description_width": ""
     }
    },
    "93c5be5829b540c7a94bf17a2fddb712": {
     "model_module": "@jupyter-widgets/controls",
     "model_module_version": "1.5.0",
     "model_name": "FloatProgressModel",
     "state": {
      "_dom_classes": [],
      "_model_module": "@jupyter-widgets/controls",
      "_model_module_version": "1.5.0",
      "_model_name": "FloatProgressModel",
      "_view_count": null,
      "_view_module": "@jupyter-widgets/controls",
      "_view_module_version": "1.5.0",
      "_view_name": "ProgressView",
      "bar_style": "success",
      "description": "",
      "description_tooltip": null,
      "layout": "IPY_MODEL_b88db362071542c7b365921b53fc0202",
      "max": 521,
      "min": 0,
      "orientation": "horizontal",
      "style": "IPY_MODEL_57b6801033e34761ad12b3d4139e570d",
      "value": 521
     }
    },
    "b88db362071542c7b365921b53fc0202": {
     "model_module": "@jupyter-widgets/base",
     "model_module_version": "1.2.0",
     "model_name": "LayoutModel",
     "state": {
      "_model_module": "@jupyter-widgets/base",
      "_model_module_version": "1.2.0",
      "_model_name": "LayoutModel",
      "_view_count": null,
      "_view_module": "@jupyter-widgets/base",
      "_view_module_version": "1.2.0",
      "_view_name": "LayoutView",
      "align_content": null,
      "align_items": null,
      "align_self": null,
      "border": null,
      "bottom": null,
      "display": null,
      "flex": null,
      "flex_flow": null,
      "grid_area": null,
      "grid_auto_columns": null,
      "grid_auto_flow": null,
      "grid_auto_rows": null,
      "grid_column": null,
      "grid_gap": null,
      "grid_row": null,
      "grid_template_areas": null,
      "grid_template_columns": null,
      "grid_template_rows": null,
      "height": null,
      "justify_content": null,
      "justify_items": null,
      "left": null,
      "margin": null,
      "max_height": null,
      "max_width": null,
      "min_height": null,
      "min_width": null,
      "object_fit": null,
      "object_position": null,
      "order": null,
      "overflow": null,
      "overflow_x": null,
      "overflow_y": null,
      "padding": null,
      "right": null,
      "top": null,
      "visibility": null,
      "width": null
     }
    },
    "caaa8a0808b144f1ac701830d1f20f90": {
     "model_module": "@jupyter-widgets/controls",
     "model_module_version": "1.5.0",
     "model_name": "HTMLModel",
     "state": {
      "_dom_classes": [],
      "_model_module": "@jupyter-widgets/controls",
      "_model_module_version": "1.5.0",
      "_model_name": "HTMLModel",
      "_view_count": null,
      "_view_module": "@jupyter-widgets/controls",
      "_view_module_version": "1.5.0",
      "_view_name": "HTMLView",
      "description": "",
      "description_tooltip": null,
      "layout": "IPY_MODEL_e62426c9d9164c0c9bd27c6eac087514",
      "placeholder": "​",
      "style": "IPY_MODEL_2acc597136804e3ca9e4d1219fe8a6ba",
      "value": "100%"
     }
    },
    "cf6664938a3b42a1815543b900932a44": {
     "model_module": "@jupyter-widgets/base",
     "model_module_version": "1.2.0",
     "model_name": "LayoutModel",
     "state": {
      "_model_module": "@jupyter-widgets/base",
      "_model_module_version": "1.2.0",
      "_model_name": "LayoutModel",
      "_view_count": null,
      "_view_module": "@jupyter-widgets/base",
      "_view_module_version": "1.2.0",
      "_view_name": "LayoutView",
      "align_content": null,
      "align_items": null,
      "align_self": null,
      "border": null,
      "bottom": null,
      "display": null,
      "flex": null,
      "flex_flow": null,
      "grid_area": null,
      "grid_auto_columns": null,
      "grid_auto_flow": null,
      "grid_auto_rows": null,
      "grid_column": null,
      "grid_gap": null,
      "grid_row": null,
      "grid_template_areas": null,
      "grid_template_columns": null,
      "grid_template_rows": null,
      "height": null,
      "justify_content": null,
      "justify_items": null,
      "left": null,
      "margin": null,
      "max_height": null,
      "max_width": null,
      "min_height": null,
      "min_width": null,
      "object_fit": null,
      "object_position": null,
      "order": null,
      "overflow": null,
      "overflow_x": null,
      "overflow_y": null,
      "padding": null,
      "right": null,
      "top": null,
      "visibility": null,
      "width": null
     }
    },
    "e62426c9d9164c0c9bd27c6eac087514": {
     "model_module": "@jupyter-widgets/base",
     "model_module_version": "1.2.0",
     "model_name": "LayoutModel",
     "state": {
      "_model_module": "@jupyter-widgets/base",
      "_model_module_version": "1.2.0",
      "_model_name": "LayoutModel",
      "_view_count": null,
      "_view_module": "@jupyter-widgets/base",
      "_view_module_version": "1.2.0",
      "_view_name": "LayoutView",
      "align_content": null,
      "align_items": null,
      "align_self": null,
      "border": null,
      "bottom": null,
      "display": null,
      "flex": null,
      "flex_flow": null,
      "grid_area": null,
      "grid_auto_columns": null,
      "grid_auto_flow": null,
      "grid_auto_rows": null,
      "grid_column": null,
      "grid_gap": null,
      "grid_row": null,
      "grid_template_areas": null,
      "grid_template_columns": null,
      "grid_template_rows": null,
      "height": null,
      "justify_content": null,
      "justify_items": null,
      "left": null,
      "margin": null,
      "max_height": null,
      "max_width": null,
      "min_height": null,
      "min_width": null,
      "object_fit": null,
      "object_position": null,
      "order": null,
      "overflow": null,
      "overflow_x": null,
      "overflow_y": null,
      "padding": null,
      "right": null,
      "top": null,
      "visibility": null,
      "width": null
     }
    },
    "f8abffd704504ce3aa317d0eee3613cb": {
     "model_module": "@jupyter-widgets/controls",
     "model_module_version": "1.5.0",
     "model_name": "HBoxModel",
     "state": {
      "_dom_classes": [],
      "_model_module": "@jupyter-widgets/controls",
      "_model_module_version": "1.5.0",
      "_model_name": "HBoxModel",
      "_view_count": null,
      "_view_module": "@jupyter-widgets/controls",
      "_view_module_version": "1.5.0",
      "_view_name": "HBoxView",
      "box_style": "",
      "children": [
       "IPY_MODEL_caaa8a0808b144f1ac701830d1f20f90",
       "IPY_MODEL_93c5be5829b540c7a94bf17a2fddb712",
       "IPY_MODEL_34f90789418d4e3ea5debe53a0962df7"
      ],
      "layout": "IPY_MODEL_cf6664938a3b42a1815543b900932a44"
     }
    }
   }
  }
 },
 "nbformat": 4,
 "nbformat_minor": 1
}
